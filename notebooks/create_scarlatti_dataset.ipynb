{
 "cells": [
  {
   "cell_type": "code",
   "execution_count": 1,
   "id": "6abd93f4-7e1e-4d98-98c7-94de5d2285fc",
   "metadata": {},
   "outputs": [
    {
     "name": "stdout",
     "output_type": "stream",
     "text": [
      "No local environment loaded\n"
     ]
    }
   ],
   "source": [
    "# Same header that we use in colab to set up the environment\n",
    "import os\n",
    "import random\n",
    "import csv\n",
    "from miditok import Octuple\n",
    "from miditok.data_augmentation import augment_midi_dataset\n",
    "from pathlib import Path\n",
    "import subprocess\n",
    "\n",
    "try:\n",
    "  import masters_environment\n",
    "except:\n",
    "  print(\"No local environment loaded\")"
   ]
  },
  {
   "cell_type": "code",
   "execution_count": 2,
   "id": "75ce90fd-2e87-4773-8b65-e17845d39c55",
   "metadata": {},
   "outputs": [],
   "source": [
    "import pandas as pd"
   ]
  },
  {
   "cell_type": "code",
   "execution_count": 3,
   "id": "ecdb0003-9c8e-4d7c-9869-74d8a5ec6b5d",
   "metadata": {},
   "outputs": [],
   "source": [
    "def midi_to_abc(midi_file_path, abc_file_path):\n",
    "    try:\n",
    "        subprocess.run([\"midi2abc\", midi_file_path, \"-o\", abc_file_path], check=True)\n",
    "        # print(f\"Successfully converted {midi_file_path} to {abc_file_path}\")\n",
    "    except subprocess.CalledProcessError as e:\n",
    "        print(f\"Error occurred during conversion: {e}\")"
   ]
  },
  {
   "cell_type": "code",
   "execution_count": 4,
   "id": "1e923010-a28e-40a6-a171-743d997858ee",
   "metadata": {},
   "outputs": [],
   "source": [
    "def convert_midi_to_abc(source_folder, target_folder):\n",
    "    \"\"\"\n",
    "    Recursively convert all MIDI files found in source_folder and its subfolders\n",
    "    to ABC format, ensuring that musical content is correctly written.\n",
    "    \"\"\"\n",
    "    source_path = Path(source_folder)\n",
    "    target_path = Path(target_folder)\n",
    "    \n",
    "    # Ensure the target folder exists\n",
    "    target_path.mkdir(parents=True, exist_ok=True)\n",
    "    \n",
    "    # Walk through the source folder and find MIDI files\n",
    "    for midi_path in source_path.rglob('*.mid'):\n",
    "        # Construct the relative path for the target file\n",
    "        relative_path = midi_path.relative_to(source_path)\n",
    "        abc_filename = relative_path.with_suffix('.abc')\n",
    "        full_target_path = target_path / abc_filename\n",
    "        \n",
    "        # Ensure the target directory exists\n",
    "        full_target_path.parent.mkdir(parents=True, exist_ok=True)\n",
    "        \n",
    "        midi_to_abc(midi_path, full_target_path)\n",
    "        #print(f\"Converted and saved: {full_target_path}\")"
   ]
  },
  {
   "cell_type": "code",
   "execution_count": 5,
   "id": "91775f54-a54e-48f6-909d-aacc4869d88b",
   "metadata": {},
   "outputs": [],
   "source": [
    "scarlatti_midi_root = '../MusicLLM/data/Scarlatti'\n",
    "scarlatti_midi_transposed_root = '../MusicLLM/data_transposed/Scarlatti'\n",
    "scarlatti_abc_root = '../MusicLLM/data_abc/Scarlatti'"
   ]
  },
  {
   "cell_type": "code",
   "execution_count": null,
   "id": "ebaa76a4-56a4-4974-8ae3-fe18bf935719",
   "metadata": {},
   "outputs": [],
   "source": [
    "#tokenizer = REMI()  # using defaults parameters (constants.py)\n",
    "tokenizer = Octuple()\n",
    "data_path = Path(scarlatti_midi_root)"
   ]
  },
  {
   "cell_type": "code",
   "execution_count": null,
   "id": "b08d065b-2e9a-4e99-a016-bd6f57f0f5f4",
   "metadata": {},
   "outputs": [],
   "source": [
    "data_path"
   ]
  },
  {
   "cell_type": "code",
   "execution_count": null,
   "id": "5e1cfd05-57ef-4ca1-a0b0-9bcead7c5e60",
   "metadata": {},
   "outputs": [],
   "source": [
    "# Try using mido\n",
    "from mido import MidiFile, MidiTrack, Message\n",
    "\n",
    "def transpose_midi(input_file, semitones):\n",
    "    midi = MidiFile(input_file)\n",
    "    transposed = MidiFile()\n",
    "    for track in midi.tracks:\n",
    "        transposed_track = MidiTrack()\n",
    "        for msg in track:\n",
    "            if not msg.is_meta and msg.type == 'note_on':\n",
    "                new_note = msg.note + semitones\n",
    "                # Ensure that the new note is within the MIDI range\n",
    "                if new_note < 0 or new_note > 127:\n",
    "                    continue\n",
    "                new_msg = msg.copy(note=new_note)\n",
    "                transposed_track.append(new_msg)\n",
    "            else:\n",
    "                transposed_track.append(msg)\n",
    "        transposed.tracks.append(transposed_track)\n",
    "    return transposed\n",
    "\n",
    "def transpose_directory(input_dir, output_dir):\n",
    "    \"\"\" Transpose all MIDI files in a directory to all other 11 keys and save them. \"\"\"\n",
    "    if not os.path.exists(output_dir):\n",
    "        os.makedirs(output_dir)\n",
    "    \n",
    "    for filename in os.listdir(input_dir):\n",
    "        if filename.endswith('.mid') or filename.endswith('.midi'):\n",
    "            original_file = os.path.join(input_dir, filename)\n",
    "            for i in range(-5, 6):  # Transpose to all keys except the original\n",
    "                transposed_midi = transpose_midi(original_file, i)\n",
    "                transposed_filename = f\"{os.path.splitext(filename)[0]}#p{i}.mid\"\n",
    "                transposed_file_path = os.path.join(output_dir, transposed_filename)\n",
    "                transposed_midi.save(transposed_file_path)\n",
    "                #print(f\"Saved {transposed_file_path}\")\n",
    "\n",
    "transpose_directory(scarlatti_midi_root, scarlatti_midi_transposed_root)"
   ]
  },
  {
   "cell_type": "code",
   "execution_count": null,
   "id": "d8c2d7e8-4365-4681-974d-53d713432ff4",
   "metadata": {},
   "outputs": [],
   "source": [
    "# Performs data augmentation on pitch, velocities and durations; save MIDI files\n",
    "'''\n",
    "midi_aug_path = Path(scarlatti_midi_transposed_root)\n",
    "\n",
    "augment_midi_dataset(\n",
    "    data_path,\n",
    "    pitch_offsets=[ -5, -4, -3, -2, -1, 1, 2, 3, 4, 5, 6],\n",
    "    velocity_offsets=[],\n",
    "    duration_offsets=[],\n",
    "    out_path=midi_aug_path,\n",
    "    copy_original_in_new_location=True,\n",
    "    save_data_aug_report=True\n",
    ")\n",
    "'''"
   ]
  },
  {
   "cell_type": "raw",
   "id": "3eb63a0e-8167-4a36-818f-05a693da4ae1",
   "metadata": {},
   "source": [
    "'''\n",
    "try:\n",
    "    tokenizer.tokenize_midi_dataset(\n",
    "    data_path,\n",
    "    Path(\"../MusicLLM/tokenized/Scarlatti\")\n",
    "    )\n",
    "except:\n",
    "    print(\"Some tokenization failed\")\n",
    "'''"
   ]
  },
  {
   "cell_type": "code",
   "execution_count": null,
   "id": "37cabfda-2afe-4e55-a2ba-c5bde16a7de3",
   "metadata": {},
   "outputs": [],
   "source": [
    "convert_midi_to_abc(scarlatti_midi_transposed_root, scarlatti_abc_root)"
   ]
  },
  {
   "cell_type": "code",
   "execution_count": 33,
   "id": "1b0727ea-a943-4bf8-90f7-726d47e9baf6",
   "metadata": {},
   "outputs": [],
   "source": [
    "def get_files_non(directory):\n",
    "    files = [file for file in os.listdir(directory) if \"#p0\" in file]\n",
    "    return files\n",
    "\n",
    "def get_all_files(directory):\n",
    "    files = [file for file in os.listdir(directory)]\n",
    "    return files\n",
    "\n",
    "def get_abc_data(file_path):\n",
    "    '''\n",
    "    with open(file_path, 'r') as file:\n",
    "        text = file.read()\n",
    "    \n",
    "    # Remove line endings that match \"\\n\"\n",
    "    modified_text = text.replace(\"\\\\\\n\", \"\")\n",
    "    '''\n",
    "    with open(file_path, 'r') as file:\n",
    "        text = []  # Initialize an empty list to store lines that do not start with '%'\n",
    "        for line in file:\n",
    "            if not line.strip().startswith('%'):\n",
    "                text.append(line.strip())\n",
    "    text = \"\\n\".join(text)  # Join all lines into a single string, separated by newlines\n",
    "    modified_text = text.replace(\"\\\\\\n\", \"\")\n",
    "    return modified_text\n",
    "\n",
    "def ff(file_path):\n",
    "    text = []\n",
    "    with open(file_path, 'r') as file:\n",
    "        for line in file:\n",
    "            if not line.strip().startswith('%'):\n",
    "                text.append(line.strip())  # Add the line to the list if it doesn't start with '%'\n",
    "    text = \"\\n\".join(text)  # Join all lines into a single string, separated by newlines\n",
    "    return text\n",
    "\n",
    "def get_random_query():\n",
    "    queries = [\"Craft a musical arrangement echoing the elegance of Scarlatti.\",\n",
    "    \"Develop a piece capturing the essence of Scarlatti's musical language.\",\n",
    "    \"Construct a composition reminiscent of Scarlatti's classical style.\",\n",
    "    \"Formulate a musical creation inspired by the genius of Scarlatti.\",\n",
    "    \"Fashion a piece evoking the spirit of Scarlatti's compositions.\",\n",
    "    \"Produce a composition in homage to Scarlatti's timeless style.\",\n",
    "    \"Invent a musical work reflecting Scarlatti's signature elegance.\",\n",
    "    \"Design a composition modeled after the tradition of Scarlatti.\",\n",
    "    \"Conceive a piece that pays tribute to Scarlatti's musical legacy.\",\n",
    "    \"Shape a composition in the vein of Scarlatti's classical masterpieces.\",\n",
    "    \"Devise a musical arrangement embodying Scarlattiian grace and charm.\",\n",
    "    \"Create a piece inspired by the classical structures favored by Scarlatti.\",\n",
    "    \"Construct a composition resonating with the melodic brilliance of Scarlatti.\",\n",
    "    \"Develop a musical work in the esteemed tradition of Scarlatti's compositions.\",\n",
    "    \"Formulate a composition infused with the harmonic richness of Scarlatti's style.\",\n",
    "    \"Craft a piece that captures the sophistication and refinement of Scarlatti's music.\",\n",
    "    \"Produce a composition that echoes the grace and poise characteristic of Scarlatti.\",\n",
    "    \"Design a musical arrangement paying homage to Scarlatti's classical genius.\",\n",
    "    \"Invent a piece inspired by the timeless melodies of Scarlatti.\",\n",
    "    \"Shape a composition that reflects the enduring legacy of Scarlatti's musical craftsmanship.\"]\n",
    "\n",
    "    q = 'Human: ' + random.choice(queries) + '</s>'\n",
    "    \n",
    "    return q"
   ]
  },
  {
   "cell_type": "code",
   "execution_count": 34,
   "id": "e01afef5-1f39-4e11-80fe-ac23a449e6a4",
   "metadata": {},
   "outputs": [
    {
     "name": "stdout",
     "output_type": "stream",
     "text": [
      "Human: Fashion a piece evoking the spirit of Scarlatti's compositions.</s>\n"
     ]
    }
   ],
   "source": [
    "print(get_random_query())"
   ]
  },
  {
   "cell_type": "code",
   "execution_count": 40,
   "id": "ad004541-0e13-41dc-927a-2ac242940553",
   "metadata": {},
   "outputs": [],
   "source": [
    "scarlatti_files = get_files_non(scarlatti_abc_root)\n",
    "#scarlatti_files = get_all_files(scarlatti_abc_root)"
   ]
  },
  {
   "cell_type": "code",
   "execution_count": 41,
   "id": "62d02ce8-2917-4755-9b34-818c5d3c067b",
   "metadata": {},
   "outputs": [
    {
     "data": {
      "text/html": [
       "<div>\n",
       "<style scoped>\n",
       "    .dataframe tbody tr th:only-of-type {\n",
       "        vertical-align: middle;\n",
       "    }\n",
       "\n",
       "    .dataframe tbody tr th {\n",
       "        vertical-align: top;\n",
       "    }\n",
       "\n",
       "    .dataframe thead th {\n",
       "        text-align: right;\n",
       "    }\n",
       "</style>\n",
       "<table border=\"1\" class=\"dataframe\">\n",
       "  <thead>\n",
       "    <tr style=\"text-align: right;\">\n",
       "      <th></th>\n",
       "      <th>instruction</th>\n",
       "      <th>input</th>\n",
       "      <th>output</th>\n",
       "      <th>src</th>\n",
       "    </tr>\n",
       "  </thead>\n",
       "  <tbody>\n",
       "  </tbody>\n",
       "</table>\n",
       "</div>"
      ],
      "text/plain": [
       "Empty DataFrame\n",
       "Columns: [instruction, input, output, src]\n",
       "Index: []"
      ]
     },
     "execution_count": 41,
     "metadata": {},
     "output_type": "execute_result"
    }
   ],
   "source": [
    "has_title = 0\n",
    "no_title = 0\n",
    "missing = []\n",
    "column_names = ['instruction', 'input', 'output', 'src']\n",
    "\n",
    "empty_df = pd.DataFrame(columns=column_names)\n",
    "empty_df"
   ]
  },
  {
   "cell_type": "code",
   "execution_count": 42,
   "id": "142dfcfe-18f7-4cb4-b071-05ead994fdbf",
   "metadata": {},
   "outputs": [
    {
     "name": "stdout",
     "output_type": "stream",
     "text": [
      "Match:  0  no match:  0\n",
      "Files created:  555\n"
     ]
    }
   ],
   "source": [
    "created = 0\n",
    "\n",
    "for n in scarlatti_files:\n",
    "    # Just filename\n",
    "    title = ''\n",
    "    k = n.split('.')[0]\n",
    "\n",
    "    data = get_abc_data(os.path.join('../MusicLLM/data_abc/Scarlatti', n))\n",
    "                 \n",
    "    # Need: instruction, input,       output,            src\n",
    "    #       Human:       tite: </s>  Assistant: </s>\n",
    "    if len(data.strip()) > 0:\n",
    "        new_instruction = get_random_query()\n",
    "        new_input = ''\n",
    "        new_output = \"Assistant: \" + data  + \"</s>\"\n",
    "        new_src = \"https://www.kunstderfuge.com/scarlatti.htm\"\n",
    "    \n",
    "        data_to_append = pd.DataFrame([[new_instruction, new_input, new_output, new_src]], columns=column_names)\n",
    "        empty_df = pd.concat([empty_df, data_to_append], ignore_index=True)\n",
    "        created += 1\n",
    "    else:\n",
    "        print(\"Skipping file: \", n)\n",
    "\n",
    "print(\"Match: \", has_title, \" no match: \", no_title)\n",
    "print(\"Files created: \", created)"
   ]
  },
  {
   "cell_type": "code",
   "execution_count": 43,
   "id": "b320ac11-6132-4a62-bcb2-bc2b5d6ce0b6",
   "metadata": {},
   "outputs": [
    {
     "data": {
      "text/plain": [
       "instruction    Human: Design a musical arrangement paying hom...\n",
       "input                                                           \n",
       "output         Assistant: X: 1\\nT: from ../MusicLLM/data_tran...\n",
       "src                   https://www.kunstderfuge.com/scarlatti.htm\n",
       "Name: 0, dtype: object"
      ]
     },
     "execution_count": 43,
     "metadata": {},
     "output_type": "execute_result"
    }
   ],
   "source": [
    "empty_df.iloc[0]"
   ]
  },
  {
   "cell_type": "code",
   "execution_count": 44,
   "id": "be1668ff-2707-46b5-98e0-b1ba9f9a633c",
   "metadata": {},
   "outputs": [],
   "source": [
    "#empty_df.to_csv('scarlatti_source_transposed.csv', mode='w', quoting=csv.QUOTE_ALL, index=False)\n",
    "empty_df.to_csv('scarlatti_source.csv', quoting=csv.QUOTE_ALL, index=False) "
   ]
  },
  {
   "cell_type": "code",
   "execution_count": null,
   "id": "d749c1d8-2e1f-4e20-9740-a51ceb5a0137",
   "metadata": {},
   "outputs": [],
   "source": [
    "!pwd\n"
   ]
  }
 ],
 "metadata": {
  "kernelspec": {
   "display_name": "Python 3 (ipykernel)",
   "language": "python",
   "name": "python3"
  },
  "language_info": {
   "codemirror_mode": {
    "name": "ipython",
    "version": 3
   },
   "file_extension": ".py",
   "mimetype": "text/x-python",
   "name": "python",
   "nbconvert_exporter": "python",
   "pygments_lexer": "ipython3",
   "version": "3.11.5"
  }
 },
 "nbformat": 4,
 "nbformat_minor": 5
}
